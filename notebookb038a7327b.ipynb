{
 "cells": [
  {
   "cell_type": "code",
   "execution_count": 1,
   "id": "f18ce8b3",
   "metadata": {
    "_cell_guid": "b1076dfc-b9ad-4769-8c92-a6c4dae69d19",
    "_uuid": "8f2839f25d086af736a60e9eeb907d3b93b6e0e5",
    "execution": {
     "iopub.execute_input": "2023-01-06T10:32:19.895892Z",
     "iopub.status.busy": "2023-01-06T10:32:19.895414Z",
     "iopub.status.idle": "2023-01-06T10:32:19.908044Z",
     "shell.execute_reply": "2023-01-06T10:32:19.907357Z"
    },
    "papermill": {
     "duration": 0.023496,
     "end_time": "2023-01-06T10:32:19.911151",
     "exception": false,
     "start_time": "2023-01-06T10:32:19.887655",
     "status": "completed"
    },
    "tags": []
   },
   "outputs": [
    {
     "name": "stdout",
     "output_type": "stream",
     "text": [
      "/kaggle/input/godaddy-microbusiness-density-forecasting/sample_submission.csv\n",
      "/kaggle/input/godaddy-microbusiness-density-forecasting/census_starter.csv\n",
      "/kaggle/input/godaddy-microbusiness-density-forecasting/train.csv\n",
      "/kaggle/input/godaddy-microbusiness-density-forecasting/test.csv\n"
     ]
    }
   ],
   "source": [
    "# This Python 3 environment comes with many helpful analytics libraries installed\n",
    "# It is defined by the kaggle/python Docker image: https://github.com/kaggle/docker-python\n",
    "# For example, here's several helpful packages to load\n",
    "\n",
    "import numpy as np # linear algebra\n",
    "import pandas as pd # data processing, CSV file I/O (e.g. pd.read_csv)\n",
    "\n",
    "# Input data files are available in the read-only \"../input/\" directory\n",
    "# For example, running this (by clicking run or pressing Shift+Enter) will list all files under the input directory\n",
    "\n",
    "import os\n",
    "for dirname, _, filenames in os.walk('/kaggle/input'):\n",
    "    for filename in filenames:\n",
    "        print(os.path.join(dirname, filename))\n",
    "\n",
    "# You can write up to 20GB to the current directory (/kaggle/working/) that gets preserved as output when you create a version using \"Save & Run All\" \n",
    "# You can also write temporary files to /kaggle/temp/, but they won't be saved outside of the current session"
   ]
  },
  {
   "cell_type": "code",
   "execution_count": 2,
   "id": "0013db25",
   "metadata": {
    "execution": {
     "iopub.execute_input": "2023-01-06T10:32:19.924450Z",
     "iopub.status.busy": "2023-01-06T10:32:19.923612Z",
     "iopub.status.idle": "2023-01-06T10:32:20.235055Z",
     "shell.execute_reply": "2023-01-06T10:32:20.233591Z"
    },
    "papermill": {
     "duration": 0.32034,
     "end_time": "2023-01-06T10:32:20.237959",
     "exception": false,
     "start_time": "2023-01-06T10:32:19.917619",
     "status": "completed"
    },
    "tags": []
   },
   "outputs": [],
   "source": [
    "train = pd.read_csv('/kaggle/input/godaddy-microbusiness-density-forecasting/train.csv')"
   ]
  },
  {
   "cell_type": "code",
   "execution_count": 3,
   "id": "16710540",
   "metadata": {
    "execution": {
     "iopub.execute_input": "2023-01-06T10:32:20.249210Z",
     "iopub.status.busy": "2023-01-06T10:32:20.248591Z",
     "iopub.status.idle": "2023-01-06T10:32:20.285480Z",
     "shell.execute_reply": "2023-01-06T10:32:20.284098Z"
    },
    "papermill": {
     "duration": 0.045686,
     "end_time": "2023-01-06T10:32:20.288441",
     "exception": false,
     "start_time": "2023-01-06T10:32:20.242755",
     "status": "completed"
    },
    "tags": []
   },
   "outputs": [],
   "source": [
    "train[\"first_day_of_month\"] = pd.to_datetime(train[\"first_day_of_month\"])"
   ]
  },
  {
   "cell_type": "code",
   "execution_count": 4,
   "id": "550c03cb",
   "metadata": {
    "execution": {
     "iopub.execute_input": "2023-01-06T10:32:20.300441Z",
     "iopub.status.busy": "2023-01-06T10:32:20.299893Z",
     "iopub.status.idle": "2023-01-06T10:32:20.356339Z",
     "shell.execute_reply": "2023-01-06T10:32:20.355299Z"
    },
    "papermill": {
     "duration": 0.065301,
     "end_time": "2023-01-06T10:32:20.359085",
     "exception": false,
     "start_time": "2023-01-06T10:32:20.293784",
     "status": "completed"
    },
    "tags": []
   },
   "outputs": [],
   "source": [
    "train = train.sort_values(['cfips','first_day_of_month']).reset_index(drop=True)"
   ]
  },
  {
   "cell_type": "code",
   "execution_count": 5,
   "id": "515a914c",
   "metadata": {
    "execution": {
     "iopub.execute_input": "2023-01-06T10:32:20.370499Z",
     "iopub.status.busy": "2023-01-06T10:32:20.369915Z",
     "iopub.status.idle": "2023-01-06T10:32:20.415737Z",
     "shell.execute_reply": "2023-01-06T10:32:20.414626Z"
    },
    "papermill": {
     "duration": 0.054174,
     "end_time": "2023-01-06T10:32:20.418067",
     "exception": false,
     "start_time": "2023-01-06T10:32:20.363893",
     "status": "completed"
    },
    "tags": []
   },
   "outputs": [],
   "source": [
    "test = pd.read_csv('/kaggle/input/godaddy-microbusiness-density-forecasting/test.csv')\n",
    "test[\"first_day_of_month\"] = pd.to_datetime(test[\"first_day_of_month\"])\n",
    "test = test.sort_values(['cfips','first_day_of_month']).reset_index(drop=True)"
   ]
  },
  {
   "cell_type": "code",
   "execution_count": null,
   "id": "074345c3",
   "metadata": {
    "papermill": {
     "duration": 0.00485,
     "end_time": "2023-01-06T10:32:20.428018",
     "exception": false,
     "start_time": "2023-01-06T10:32:20.423168",
     "status": "completed"
    },
    "tags": []
   },
   "outputs": [],
   "source": []
  },
  {
   "cell_type": "code",
   "execution_count": null,
   "id": "dca6f729",
   "metadata": {
    "papermill": {
     "duration": 0.004681,
     "end_time": "2023-01-06T10:32:20.437496",
     "exception": false,
     "start_time": "2023-01-06T10:32:20.432815",
     "status": "completed"
    },
    "tags": []
   },
   "outputs": [],
   "source": []
  },
  {
   "cell_type": "code",
   "execution_count": null,
   "id": "172f4835",
   "metadata": {
    "papermill": {
     "duration": 0.006053,
     "end_time": "2023-01-06T10:32:20.448375",
     "exception": false,
     "start_time": "2023-01-06T10:32:20.442322",
     "status": "completed"
    },
    "tags": []
   },
   "outputs": [],
   "source": []
  },
  {
   "cell_type": "code",
   "execution_count": null,
   "id": "b3e6c7a2",
   "metadata": {
    "papermill": {
     "duration": 0.004811,
     "end_time": "2023-01-06T10:32:20.458161",
     "exception": false,
     "start_time": "2023-01-06T10:32:20.453350",
     "status": "completed"
    },
    "tags": []
   },
   "outputs": [],
   "source": []
  },
  {
   "cell_type": "code",
   "execution_count": null,
   "id": "dc25de90",
   "metadata": {
    "papermill": {
     "duration": 0.004579,
     "end_time": "2023-01-06T10:32:20.467504",
     "exception": false,
     "start_time": "2023-01-06T10:32:20.462925",
     "status": "completed"
    },
    "tags": []
   },
   "outputs": [],
   "source": []
  },
  {
   "cell_type": "code",
   "execution_count": null,
   "id": "4594da05",
   "metadata": {
    "papermill": {
     "duration": 0.004658,
     "end_time": "2023-01-06T10:32:20.477113",
     "exception": false,
     "start_time": "2023-01-06T10:32:20.472455",
     "status": "completed"
    },
    "tags": []
   },
   "outputs": [],
   "source": []
  },
  {
   "cell_type": "code",
   "execution_count": null,
   "id": "cbf4de55",
   "metadata": {
    "papermill": {
     "duration": 0.004758,
     "end_time": "2023-01-06T10:32:20.486823",
     "exception": false,
     "start_time": "2023-01-06T10:32:20.482065",
     "status": "completed"
    },
    "tags": []
   },
   "outputs": [],
   "source": []
  },
  {
   "cell_type": "code",
   "execution_count": null,
   "id": "b5a2ebb0",
   "metadata": {
    "papermill": {
     "duration": 0.004822,
     "end_time": "2023-01-06T10:32:20.496763",
     "exception": false,
     "start_time": "2023-01-06T10:32:20.491941",
     "status": "completed"
    },
    "tags": []
   },
   "outputs": [],
   "source": []
  },
  {
   "cell_type": "code",
   "execution_count": null,
   "id": "5e52b730",
   "metadata": {
    "papermill": {
     "duration": 0.004713,
     "end_time": "2023-01-06T10:32:20.506493",
     "exception": false,
     "start_time": "2023-01-06T10:32:20.501780",
     "status": "completed"
    },
    "tags": []
   },
   "outputs": [],
   "source": []
  },
  {
   "cell_type": "code",
   "execution_count": null,
   "id": "bbad302a",
   "metadata": {
    "papermill": {
     "duration": 0.004869,
     "end_time": "2023-01-06T10:32:20.516280",
     "exception": false,
     "start_time": "2023-01-06T10:32:20.511411",
     "status": "completed"
    },
    "tags": []
   },
   "outputs": [],
   "source": []
  },
  {
   "cell_type": "code",
   "execution_count": null,
   "id": "3d2dd7b0",
   "metadata": {
    "papermill": {
     "duration": 0.004772,
     "end_time": "2023-01-06T10:32:20.526073",
     "exception": false,
     "start_time": "2023-01-06T10:32:20.521301",
     "status": "completed"
    },
    "tags": []
   },
   "outputs": [],
   "source": []
  },
  {
   "cell_type": "code",
   "execution_count": null,
   "id": "c277d6e5",
   "metadata": {
    "papermill": {
     "duration": 0.004656,
     "end_time": "2023-01-06T10:32:20.535681",
     "exception": false,
     "start_time": "2023-01-06T10:32:20.531025",
     "status": "completed"
    },
    "tags": []
   },
   "outputs": [],
   "source": []
  },
  {
   "cell_type": "code",
   "execution_count": null,
   "id": "52e151ef",
   "metadata": {
    "papermill": {
     "duration": 0.004798,
     "end_time": "2023-01-06T10:32:20.545308",
     "exception": false,
     "start_time": "2023-01-06T10:32:20.540510",
     "status": "completed"
    },
    "tags": []
   },
   "outputs": [],
   "source": []
  },
  {
   "cell_type": "code",
   "execution_count": null,
   "id": "4497e3e8",
   "metadata": {
    "papermill": {
     "duration": 0.004764,
     "end_time": "2023-01-06T10:32:20.555074",
     "exception": false,
     "start_time": "2023-01-06T10:32:20.550310",
     "status": "completed"
    },
    "tags": []
   },
   "outputs": [],
   "source": []
  },
  {
   "cell_type": "code",
   "execution_count": null,
   "id": "f4ff529a",
   "metadata": {
    "papermill": {
     "duration": 0.004738,
     "end_time": "2023-01-06T10:32:20.564686",
     "exception": false,
     "start_time": "2023-01-06T10:32:20.559948",
     "status": "completed"
    },
    "tags": []
   },
   "outputs": [],
   "source": []
  },
  {
   "cell_type": "code",
   "execution_count": null,
   "id": "95a67041",
   "metadata": {
    "papermill": {
     "duration": 0.004621,
     "end_time": "2023-01-06T10:32:20.574480",
     "exception": false,
     "start_time": "2023-01-06T10:32:20.569859",
     "status": "completed"
    },
    "tags": []
   },
   "outputs": [],
   "source": []
  },
  {
   "cell_type": "code",
   "execution_count": null,
   "id": "d4c49d99",
   "metadata": {
    "papermill": {
     "duration": 0.004486,
     "end_time": "2023-01-06T10:32:20.583656",
     "exception": false,
     "start_time": "2023-01-06T10:32:20.579170",
     "status": "completed"
    },
    "tags": []
   },
   "outputs": [],
   "source": []
  },
  {
   "cell_type": "code",
   "execution_count": null,
   "id": "e8ebad4b",
   "metadata": {
    "papermill": {
     "duration": 0.004516,
     "end_time": "2023-01-06T10:32:20.592891",
     "exception": false,
     "start_time": "2023-01-06T10:32:20.588375",
     "status": "completed"
    },
    "tags": []
   },
   "outputs": [],
   "source": []
  },
  {
   "cell_type": "code",
   "execution_count": null,
   "id": "7cd02130",
   "metadata": {
    "papermill": {
     "duration": 0.004638,
     "end_time": "2023-01-06T10:32:20.602306",
     "exception": false,
     "start_time": "2023-01-06T10:32:20.597668",
     "status": "completed"
    },
    "tags": []
   },
   "outputs": [],
   "source": []
  },
  {
   "cell_type": "code",
   "execution_count": null,
   "id": "8cc3b4a0",
   "metadata": {
    "papermill": {
     "duration": 0.004569,
     "end_time": "2023-01-06T10:32:20.611787",
     "exception": false,
     "start_time": "2023-01-06T10:32:20.607218",
     "status": "completed"
    },
    "tags": []
   },
   "outputs": [],
   "source": []
  }
 ],
 "metadata": {
  "kernelspec": {
   "display_name": "Python 3",
   "language": "python",
   "name": "python3"
  },
  "language_info": {
   "codemirror_mode": {
    "name": "ipython",
    "version": 3
   },
   "file_extension": ".py",
   "mimetype": "text/x-python",
   "name": "python",
   "nbconvert_exporter": "python",
   "pygments_lexer": "ipython3",
   "version": "3.7.12"
  },
  "papermill": {
   "default_parameters": {},
   "duration": 8.946814,
   "end_time": "2023-01-06T10:32:21.137034",
   "environment_variables": {},
   "exception": null,
   "input_path": "__notebook__.ipynb",
   "output_path": "__notebook__.ipynb",
   "parameters": {},
   "start_time": "2023-01-06T10:32:12.190220",
   "version": "2.3.4"
  }
 },
 "nbformat": 4,
 "nbformat_minor": 5
}
